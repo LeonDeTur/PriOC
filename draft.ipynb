{
 "cells": [
  {
   "cell_type": "code",
   "id": "initial_id",
   "metadata": {
    "collapsed": true,
    "ExecuteTime": {
     "end_time": "2024-10-18T14:23:00.925950Z",
     "start_time": "2024-10-18T14:23:00.681353Z"
    }
   },
   "source": [
    "import pandas as pd\n",
    "import geopandas as gpd\n",
    "import osmnx as ox\n",
    "from shapely.geometry import Point, LineString, Polygon, MultiLineString, MultiPoint, MultiPolygon\n",
    "\n",
    "from iduedu import get_intermodal_graph"
   ],
   "outputs": [
    {
     "name": "stderr",
     "output_type": "stream",
     "text": [
      "C:\\Program Files\\JetBrains\\PyCharm 2024.2.2\\plugins\\python-ce\\helpers\\pydev\\_pydev_bundle\\pydev_import_hook.py:21: TqdmWarning: IProgress not found. Please update jupyter and ipywidgets. See https://ipywidgets.readthedocs.io/en/stable/user_install.html\n",
      "  module = self._system_import(name, *args, **kwargs)\n"
     ]
    },
    {
     "ename": "ValueError",
     "evalue": "numpy.dtype size changed, may indicate binary incompatibility. Expected 96 from C header, got 88 from PyObject",
     "output_type": "error",
     "traceback": [
      "\u001B[1;31m---------------------------------------------------------------------------\u001B[0m",
      "\u001B[1;31mValueError\u001B[0m                                Traceback (most recent call last)",
      "Cell \u001B[1;32mIn[208], line 6\u001B[0m\n\u001B[0;32m      3\u001B[0m \u001B[38;5;28;01mimport\u001B[39;00m \u001B[38;5;21;01mosmnx\u001B[39;00m \u001B[38;5;28;01mas\u001B[39;00m \u001B[38;5;21;01mox\u001B[39;00m\n\u001B[0;32m      4\u001B[0m \u001B[38;5;28;01mfrom\u001B[39;00m \u001B[38;5;21;01mshapely\u001B[39;00m\u001B[38;5;21;01m.\u001B[39;00m\u001B[38;5;21;01mgeometry\u001B[39;00m \u001B[38;5;28;01mimport\u001B[39;00m Point, LineString, Polygon, MultiLineString, MultiPoint, MultiPolygon\n\u001B[1;32m----> 6\u001B[0m \u001B[38;5;28;01mfrom\u001B[39;00m \u001B[38;5;21;01miduedu\u001B[39;00m \u001B[38;5;28;01mimport\u001B[39;00m get_intermodal_graph\n",
      "File \u001B[1;32mC:\\Program Files\\JetBrains\\PyCharm 2024.2.2\\plugins\\python-ce\\helpers\\pydev\\_pydev_bundle\\pydev_import_hook.py:21\u001B[0m, in \u001B[0;36mImportHookManager.do_import\u001B[1;34m(self, name, *args, **kwargs)\u001B[0m\n\u001B[0;32m     18\u001B[0m \u001B[38;5;28;01mif\u001B[39;00m name \u001B[38;5;129;01min\u001B[39;00m \u001B[38;5;28mself\u001B[39m\u001B[38;5;241m.\u001B[39m_modules_to_patch:\n\u001B[0;32m     19\u001B[0m     activate_func \u001B[38;5;241m=\u001B[39m \u001B[38;5;28mself\u001B[39m\u001B[38;5;241m.\u001B[39m_modules_to_patch[name]\n\u001B[1;32m---> 21\u001B[0m module \u001B[38;5;241m=\u001B[39m \u001B[38;5;28;43mself\u001B[39;49m\u001B[38;5;241;43m.\u001B[39;49m\u001B[43m_system_import\u001B[49m\u001B[43m(\u001B[49m\u001B[43mname\u001B[49m\u001B[43m,\u001B[49m\u001B[43m \u001B[49m\u001B[38;5;241;43m*\u001B[39;49m\u001B[43margs\u001B[49m\u001B[43m,\u001B[49m\u001B[43m \u001B[49m\u001B[38;5;241;43m*\u001B[39;49m\u001B[38;5;241;43m*\u001B[39;49m\u001B[43mkwargs\u001B[49m\u001B[43m)\u001B[49m\n\u001B[0;32m     22\u001B[0m \u001B[38;5;28;01mtry\u001B[39;00m:\n\u001B[0;32m     23\u001B[0m     \u001B[38;5;28;01mif\u001B[39;00m activate_func \u001B[38;5;129;01mand\u001B[39;00m \u001B[38;5;129;01mnot\u001B[39;00m \u001B[38;5;28mself\u001B[39m\u001B[38;5;241m.\u001B[39minside_activation:\n",
      "File \u001B[1;32m~\\PycharmProjects\\PriOC\\.venv\\Lib\\site-packages\\iduedu\\__init__.py:11\u001B[0m\n\u001B[0;32m      1\u001B[0m \u001B[38;5;124;03m\"\"\"\u001B[39;00m\n\u001B[0;32m      2\u001B[0m \u001B[38;5;124;03mIduEdu\u001B[39;00m\n\u001B[0;32m      3\u001B[0m \u001B[38;5;124;03m========\u001B[39;00m\n\u001B[1;32m   (...)\u001B[0m\n\u001B[0;32m      7\u001B[0m \u001B[38;5;124;03mHomepage https://github.com/DDonnyy/IduEdu.\u001B[39;00m\n\u001B[0;32m      8\u001B[0m \u001B[38;5;124;03m\"\"\"\u001B[39;00m\n\u001B[0;32m     10\u001B[0m \u001B[38;5;28;01mfrom\u001B[39;00m \u001B[38;5;21;01m.\u001B[39;00m\u001B[38;5;21;01m_config\u001B[39;00m \u001B[38;5;28;01mimport\u001B[39;00m config\n\u001B[1;32m---> 11\u001B[0m \u001B[38;5;28;01mfrom\u001B[39;00m \u001B[38;5;21;01m.\u001B[39;00m\u001B[38;5;21;01m_api\u001B[39;00m \u001B[38;5;28;01mimport\u001B[39;00m \u001B[38;5;241m*\u001B[39m\n\u001B[0;32m     12\u001B[0m \u001B[38;5;28;01mfrom\u001B[39;00m \u001B[38;5;21;01m.\u001B[39;00m\u001B[38;5;21;01m_version\u001B[39;00m \u001B[38;5;28;01mimport\u001B[39;00m VERSION \u001B[38;5;28;01mas\u001B[39;00m __version__\n",
      "File \u001B[1;32mC:\\Program Files\\JetBrains\\PyCharm 2024.2.2\\plugins\\python-ce\\helpers\\pydev\\_pydev_bundle\\pydev_import_hook.py:21\u001B[0m, in \u001B[0;36mImportHookManager.do_import\u001B[1;34m(self, name, *args, **kwargs)\u001B[0m\n\u001B[0;32m     18\u001B[0m \u001B[38;5;28;01mif\u001B[39;00m name \u001B[38;5;129;01min\u001B[39;00m \u001B[38;5;28mself\u001B[39m\u001B[38;5;241m.\u001B[39m_modules_to_patch:\n\u001B[0;32m     19\u001B[0m     activate_func \u001B[38;5;241m=\u001B[39m \u001B[38;5;28mself\u001B[39m\u001B[38;5;241m.\u001B[39m_modules_to_patch[name]\n\u001B[1;32m---> 21\u001B[0m module \u001B[38;5;241m=\u001B[39m \u001B[38;5;28;43mself\u001B[39;49m\u001B[38;5;241;43m.\u001B[39;49m\u001B[43m_system_import\u001B[49m\u001B[43m(\u001B[49m\u001B[43mname\u001B[49m\u001B[43m,\u001B[49m\u001B[43m \u001B[49m\u001B[38;5;241;43m*\u001B[39;49m\u001B[43margs\u001B[49m\u001B[43m,\u001B[49m\u001B[43m \u001B[49m\u001B[38;5;241;43m*\u001B[39;49m\u001B[38;5;241;43m*\u001B[39;49m\u001B[43mkwargs\u001B[49m\u001B[43m)\u001B[49m\n\u001B[0;32m     22\u001B[0m \u001B[38;5;28;01mtry\u001B[39;00m:\n\u001B[0;32m     23\u001B[0m     \u001B[38;5;28;01mif\u001B[39;00m activate_func \u001B[38;5;129;01mand\u001B[39;00m \u001B[38;5;129;01mnot\u001B[39;00m \u001B[38;5;28mself\u001B[39m\u001B[38;5;241m.\u001B[39minside_activation:\n",
      "File \u001B[1;32m~\\PycharmProjects\\PriOC\\.venv\\Lib\\site-packages\\iduedu\\_api.py:5\u001B[0m\n\u001B[0;32m      3\u001B[0m \u001B[38;5;28;01mfrom\u001B[39;00m \u001B[38;5;21;01m.\u001B[39;00m\u001B[38;5;21;01mmodules\u001B[39;00m\u001B[38;5;21;01m.\u001B[39;00m\u001B[38;5;21;01mdrive_walk_builder\u001B[39;00m \u001B[38;5;28;01mimport\u001B[39;00m get_drive_graph, get_walk_graph\n\u001B[0;32m      4\u001B[0m \u001B[38;5;28;01mfrom\u001B[39;00m \u001B[38;5;21;01m.\u001B[39;00m\u001B[38;5;21;01mmodules\u001B[39;00m\u001B[38;5;21;01m.\u001B[39;00m\u001B[38;5;21;01mintermodal_builder\u001B[39;00m \u001B[38;5;28;01mimport\u001B[39;00m get_intermodal_graph\n\u001B[1;32m----> 5\u001B[0m \u001B[38;5;28;01mfrom\u001B[39;00m \u001B[38;5;21;01m.\u001B[39;00m\u001B[38;5;21;01mmodules\u001B[39;00m\u001B[38;5;21;01m.\u001B[39;00m\u001B[38;5;21;01mmatrix_builder\u001B[39;00m \u001B[38;5;28;01mimport\u001B[39;00m get_adj_matrix_gdf_to_gdf\n\u001B[0;32m      6\u001B[0m \u001B[38;5;28;01mfrom\u001B[39;00m \u001B[38;5;21;01m.\u001B[39;00m\u001B[38;5;21;01mmodules\u001B[39;00m\u001B[38;5;21;01m.\u001B[39;00m\u001B[38;5;21;01mpt_walk_joiner\u001B[39;00m \u001B[38;5;28;01mimport\u001B[39;00m join_pt_walk_graph\n\u001B[0;32m      7\u001B[0m \u001B[38;5;28;01mfrom\u001B[39;00m \u001B[38;5;21;01m.\u001B[39;00m\u001B[38;5;21;01mmodules\u001B[39;00m\u001B[38;5;21;01m.\u001B[39;00m\u001B[38;5;21;01mpublic_transport_builder\u001B[39;00m \u001B[38;5;28;01mimport\u001B[39;00m get_all_public_transport_graph, get_single_public_transport_graph\n",
      "File \u001B[1;32mC:\\Program Files\\JetBrains\\PyCharm 2024.2.2\\plugins\\python-ce\\helpers\\pydev\\_pydev_bundle\\pydev_import_hook.py:21\u001B[0m, in \u001B[0;36mImportHookManager.do_import\u001B[1;34m(self, name, *args, **kwargs)\u001B[0m\n\u001B[0;32m     18\u001B[0m \u001B[38;5;28;01mif\u001B[39;00m name \u001B[38;5;129;01min\u001B[39;00m \u001B[38;5;28mself\u001B[39m\u001B[38;5;241m.\u001B[39m_modules_to_patch:\n\u001B[0;32m     19\u001B[0m     activate_func \u001B[38;5;241m=\u001B[39m \u001B[38;5;28mself\u001B[39m\u001B[38;5;241m.\u001B[39m_modules_to_patch[name]\n\u001B[1;32m---> 21\u001B[0m module \u001B[38;5;241m=\u001B[39m \u001B[38;5;28;43mself\u001B[39;49m\u001B[38;5;241;43m.\u001B[39;49m\u001B[43m_system_import\u001B[49m\u001B[43m(\u001B[49m\u001B[43mname\u001B[49m\u001B[43m,\u001B[49m\u001B[43m \u001B[49m\u001B[38;5;241;43m*\u001B[39;49m\u001B[43margs\u001B[49m\u001B[43m,\u001B[49m\u001B[43m \u001B[49m\u001B[38;5;241;43m*\u001B[39;49m\u001B[38;5;241;43m*\u001B[39;49m\u001B[43mkwargs\u001B[49m\u001B[43m)\u001B[49m\n\u001B[0;32m     22\u001B[0m \u001B[38;5;28;01mtry\u001B[39;00m:\n\u001B[0;32m     23\u001B[0m     \u001B[38;5;28;01mif\u001B[39;00m activate_func \u001B[38;5;129;01mand\u001B[39;00m \u001B[38;5;129;01mnot\u001B[39;00m \u001B[38;5;28mself\u001B[39m\u001B[38;5;241m.\u001B[39minside_activation:\n",
      "File \u001B[1;32m~\\PycharmProjects\\PriOC\\.venv\\Lib\\site-packages\\iduedu\\modules\\matrix_builder.py:4\u001B[0m\n\u001B[0;32m      1\u001B[0m \u001B[38;5;28;01mfrom\u001B[39;00m \u001B[38;5;21;01mtyping\u001B[39;00m \u001B[38;5;28;01mimport\u001B[39;00m Literal\n\u001B[0;32m      3\u001B[0m \u001B[38;5;28;01mimport\u001B[39;00m \u001B[38;5;21;01mgeopandas\u001B[39;00m \u001B[38;5;28;01mas\u001B[39;00m \u001B[38;5;21;01mgpd\u001B[39;00m\n\u001B[1;32m----> 4\u001B[0m \u001B[38;5;28;01mimport\u001B[39;00m \u001B[38;5;21;01mnetworkit\u001B[39;00m \u001B[38;5;28;01mas\u001B[39;00m \u001B[38;5;21;01mnk\u001B[39;00m\n\u001B[0;32m      5\u001B[0m \u001B[38;5;28;01mimport\u001B[39;00m \u001B[38;5;21;01mnetworkx\u001B[39;00m \u001B[38;5;28;01mas\u001B[39;00m \u001B[38;5;21;01mnx\u001B[39;00m\n\u001B[0;32m      6\u001B[0m \u001B[38;5;28;01mimport\u001B[39;00m \u001B[38;5;21;01mnumpy\u001B[39;00m \u001B[38;5;28;01mas\u001B[39;00m \u001B[38;5;21;01mnp\u001B[39;00m\n",
      "File \u001B[1;32mC:\\Program Files\\JetBrains\\PyCharm 2024.2.2\\plugins\\python-ce\\helpers\\pydev\\_pydev_bundle\\pydev_import_hook.py:21\u001B[0m, in \u001B[0;36mImportHookManager.do_import\u001B[1;34m(self, name, *args, **kwargs)\u001B[0m\n\u001B[0;32m     18\u001B[0m \u001B[38;5;28;01mif\u001B[39;00m name \u001B[38;5;129;01min\u001B[39;00m \u001B[38;5;28mself\u001B[39m\u001B[38;5;241m.\u001B[39m_modules_to_patch:\n\u001B[0;32m     19\u001B[0m     activate_func \u001B[38;5;241m=\u001B[39m \u001B[38;5;28mself\u001B[39m\u001B[38;5;241m.\u001B[39m_modules_to_patch[name]\n\u001B[1;32m---> 21\u001B[0m module \u001B[38;5;241m=\u001B[39m \u001B[38;5;28;43mself\u001B[39;49m\u001B[38;5;241;43m.\u001B[39;49m\u001B[43m_system_import\u001B[49m\u001B[43m(\u001B[49m\u001B[43mname\u001B[49m\u001B[43m,\u001B[49m\u001B[43m \u001B[49m\u001B[38;5;241;43m*\u001B[39;49m\u001B[43margs\u001B[49m\u001B[43m,\u001B[49m\u001B[43m \u001B[49m\u001B[38;5;241;43m*\u001B[39;49m\u001B[38;5;241;43m*\u001B[39;49m\u001B[43mkwargs\u001B[49m\u001B[43m)\u001B[49m\n\u001B[0;32m     22\u001B[0m \u001B[38;5;28;01mtry\u001B[39;00m:\n\u001B[0;32m     23\u001B[0m     \u001B[38;5;28;01mif\u001B[39;00m activate_func \u001B[38;5;129;01mand\u001B[39;00m \u001B[38;5;129;01mnot\u001B[39;00m \u001B[38;5;28mself\u001B[39m\u001B[38;5;241m.\u001B[39minside_activation:\n",
      "File \u001B[1;32m~\\PycharmProjects\\PriOC\\.venv\\Lib\\site-packages\\networkit\\__init__.py:57\u001B[0m\n\u001B[0;32m     54\u001B[0m \thave_nx \u001B[38;5;241m=\u001B[39m \u001B[38;5;28;01mTrue\u001B[39;00m\n\u001B[0;32m     56\u001B[0m \u001B[38;5;66;03m# local imports\u001B[39;00m\n\u001B[1;32m---> 57\u001B[0m \u001B[38;5;28;01mfrom\u001B[39;00m \u001B[38;5;21;01m.\u001B[39;00m \u001B[38;5;28;01mimport\u001B[39;00m graph\n\u001B[0;32m     58\u001B[0m \u001B[38;5;28;01mfrom\u001B[39;00m \u001B[38;5;21;01m.\u001B[39;00m \u001B[38;5;28;01mimport\u001B[39;00m graphio\n\u001B[0;32m     59\u001B[0m \u001B[38;5;28;01mfrom\u001B[39;00m \u001B[38;5;21;01m.\u001B[39;00m \u001B[38;5;28;01mimport\u001B[39;00m community\n",
      "File \u001B[1;32mC:\\Program Files\\JetBrains\\PyCharm 2024.2.2\\plugins\\python-ce\\helpers\\pydev\\_pydev_bundle\\pydev_import_hook.py:21\u001B[0m, in \u001B[0;36mImportHookManager.do_import\u001B[1;34m(self, name, *args, **kwargs)\u001B[0m\n\u001B[0;32m     18\u001B[0m \u001B[38;5;28;01mif\u001B[39;00m name \u001B[38;5;129;01min\u001B[39;00m \u001B[38;5;28mself\u001B[39m\u001B[38;5;241m.\u001B[39m_modules_to_patch:\n\u001B[0;32m     19\u001B[0m     activate_func \u001B[38;5;241m=\u001B[39m \u001B[38;5;28mself\u001B[39m\u001B[38;5;241m.\u001B[39m_modules_to_patch[name]\n\u001B[1;32m---> 21\u001B[0m module \u001B[38;5;241m=\u001B[39m \u001B[38;5;28;43mself\u001B[39;49m\u001B[38;5;241;43m.\u001B[39;49m\u001B[43m_system_import\u001B[49m\u001B[43m(\u001B[49m\u001B[43mname\u001B[49m\u001B[43m,\u001B[49m\u001B[43m \u001B[49m\u001B[38;5;241;43m*\u001B[39;49m\u001B[43margs\u001B[49m\u001B[43m,\u001B[49m\u001B[43m \u001B[49m\u001B[38;5;241;43m*\u001B[39;49m\u001B[38;5;241;43m*\u001B[39;49m\u001B[43mkwargs\u001B[49m\u001B[43m)\u001B[49m\n\u001B[0;32m     22\u001B[0m \u001B[38;5;28;01mtry\u001B[39;00m:\n\u001B[0;32m     23\u001B[0m     \u001B[38;5;28;01mif\u001B[39;00m activate_func \u001B[38;5;129;01mand\u001B[39;00m \u001B[38;5;129;01mnot\u001B[39;00m \u001B[38;5;28mself\u001B[39m\u001B[38;5;241m.\u001B[39minside_activation:\n",
      "File \u001B[1;32m~\\PycharmProjects\\PriOC\\.venv\\Lib\\site-packages\\networkit\\graph.pyx:1\u001B[0m, in \u001B[0;36minit networkit.graph\u001B[1;34m()\u001B[0m\n",
      "\u001B[1;31mValueError\u001B[0m: numpy.dtype size changed, may indicate binary incompatibility. Expected 96 from C header, got 88 from PyObject"
     ]
    }
   ],
   "execution_count": 208
  },
  {
   "metadata": {
    "ExecuteTime": {
     "end_time": "2024-10-18T10:15:20.438073Z",
     "start_time": "2024-10-18T10:15:20.420316Z"
    }
   },
   "cell_type": "code",
   "source": "context_ter = gpd.read_file('context_ter.geojson')",
   "id": "c2a195660726a733",
   "outputs": [],
   "execution_count": 78
  },
  {
   "metadata": {
    "ExecuteTime": {
     "end_time": "2024-10-18T13:51:27.895320Z",
     "start_time": "2024-10-18T13:51:27.665005Z"
    }
   },
   "cell_type": "code",
   "source": "natural = gpd.read_file('shl_natural_estimated.geojson')",
   "id": "e8c9449f49add00b",
   "outputs": [],
   "execution_count": 196
  },
  {
   "metadata": {
    "ExecuteTime": {
     "end_time": "2024-10-18T13:45:02.797488Z",
     "start_time": "2024-10-18T13:45:02.791152Z"
    }
   },
   "cell_type": "code",
   "source": [
    "def value_estimator(natural_tag: str) -> int:\n",
    "    \"\"\"Function estimates attraction based on tag\"\"\"\n",
    "    \n",
    "    natural_tag_router = {\n",
    "        'beach': 5,\n",
    "        'bay': 10,\n",
    "        'spring': 2,\n",
    "        'cape': 10,\n",
    "        'clif': 7\n",
    "    }\n",
    "    \n",
    "    result = natural_tag_router.get(natural_tag, 1)\n",
    "    return result"
   ],
   "id": "ff66864b09463a21",
   "outputs": [],
   "execution_count": 185
  },
  {
   "metadata": {
    "ExecuteTime": {
     "end_time": "2024-10-18T13:52:53.936639Z",
     "start_time": "2024-10-18T13:52:53.750588Z"
    }
   },
   "cell_type": "code",
   "source": "tourism = ox.features_from_polygon(context_ter.union_all(), {'tourism': True})",
   "id": "57a682481406c842",
   "outputs": [],
   "execution_count": 198
  },
  {
   "metadata": {
    "ExecuteTime": {
     "end_time": "2024-10-18T13:53:12.296390Z",
     "start_time": "2024-10-18T13:53:12.291042Z"
    }
   },
   "cell_type": "code",
   "source": "tourism['tourism'].unique()",
   "id": "4601a690c27cab3d",
   "outputs": [
    {
     "data": {
      "text/plain": [
       "array(['hotel', 'viewpoint', 'attraction', 'museum', 'information',\n",
       "       'artwork', 'picnic_site', 'camp_site', 'motel', 'guest_house'],\n",
       "      dtype=object)"
      ]
     },
     "execution_count": 200,
     "metadata": {},
     "output_type": "execute_result"
    }
   ],
   "execution_count": 200
  },
  {
   "metadata": {
    "ExecuteTime": {
     "end_time": "2024-10-18T13:54:38.523244Z",
     "start_time": "2024-10-18T13:54:38.515153Z"
    }
   },
   "cell_type": "code",
   "source": "accommodation = tourism[tourism['tourism'].isin(['hotel', 'camp_site', 'motel', 'guest_house'])]",
   "id": "b3b335a408191181",
   "outputs": [],
   "execution_count": 201
  },
  {
   "metadata": {
    "ExecuteTime": {
     "end_time": "2024-10-18T13:56:27.118099Z",
     "start_time": "2024-10-18T13:56:27.111995Z"
    }
   },
   "cell_type": "code",
   "source": "accommodation = accommodation[['tourism', 'geometry']]",
   "id": "49ee84f064689e91",
   "outputs": [],
   "execution_count": 206
  },
  {
   "metadata": {
    "ExecuteTime": {
     "end_time": "2024-10-18T13:56:29.736202Z",
     "start_time": "2024-10-18T13:56:29.726437Z"
    }
   },
   "cell_type": "code",
   "source": "accommodation.reset_index()",
   "id": "9730dee1ded47e36",
   "outputs": [
    {
     "data": {
      "text/plain": [
       "                         tourism  \\\n",
       "element id                         \n",
       "node    380179312          hotel   \n",
       "        1056680936         hotel   \n",
       "        1179449583         hotel   \n",
       "        1888235585         hotel   \n",
       "        7353964075         hotel   \n",
       "        7812529695     camp_site   \n",
       "        7812529707     camp_site   \n",
       "        11268054600        motel   \n",
       "        11581674773        hotel   \n",
       "way     38183949           hotel   \n",
       "        116073249          hotel   \n",
       "        650038216    guest_house   \n",
       "\n",
       "                                                              geometry  \n",
       "element id                                                              \n",
       "node    380179312                            POINT (31.04647 59.94045)  \n",
       "        1056680936                           POINT (31.03513 59.94645)  \n",
       "        1179449583                           POINT (31.21456 59.87327)  \n",
       "        1888235585                            POINT (30.98878 59.8887)  \n",
       "        7353964075                           POINT (30.98659 59.87632)  \n",
       "        7812529695                            POINT (31.1293 59.84639)  \n",
       "        7812529707                           POINT (31.20158 59.80727)  \n",
       "        11268054600                          POINT (31.06263 59.90699)  \n",
       "        11581674773                          POINT (30.98981 59.87333)  \n",
       "way     38183949     POLYGON ((31.0327 59.9467, 31.03251 59.94672, ...  \n",
       "        116073249    POLYGON ((31.03446 59.9465, 31.03459 59.94648,...  \n",
       "        650038216    POLYGON ((31.00121 59.92953, 31.00129 59.92961...  "
      ],
      "text/html": [
       "<div>\n",
       "<style scoped>\n",
       "    .dataframe tbody tr th:only-of-type {\n",
       "        vertical-align: middle;\n",
       "    }\n",
       "\n",
       "    .dataframe tbody tr th {\n",
       "        vertical-align: top;\n",
       "    }\n",
       "\n",
       "    .dataframe thead th {\n",
       "        text-align: right;\n",
       "    }\n",
       "</style>\n",
       "<table border=\"1\" class=\"dataframe\">\n",
       "  <thead>\n",
       "    <tr style=\"text-align: right;\">\n",
       "      <th></th>\n",
       "      <th></th>\n",
       "      <th>tourism</th>\n",
       "      <th>geometry</th>\n",
       "    </tr>\n",
       "    <tr>\n",
       "      <th>element</th>\n",
       "      <th>id</th>\n",
       "      <th></th>\n",
       "      <th></th>\n",
       "    </tr>\n",
       "  </thead>\n",
       "  <tbody>\n",
       "    <tr>\n",
       "      <th rowspan=\"9\" valign=\"top\">node</th>\n",
       "      <th>380179312</th>\n",
       "      <td>hotel</td>\n",
       "      <td>POINT (31.04647 59.94045)</td>\n",
       "    </tr>\n",
       "    <tr>\n",
       "      <th>1056680936</th>\n",
       "      <td>hotel</td>\n",
       "      <td>POINT (31.03513 59.94645)</td>\n",
       "    </tr>\n",
       "    <tr>\n",
       "      <th>1179449583</th>\n",
       "      <td>hotel</td>\n",
       "      <td>POINT (31.21456 59.87327)</td>\n",
       "    </tr>\n",
       "    <tr>\n",
       "      <th>1888235585</th>\n",
       "      <td>hotel</td>\n",
       "      <td>POINT (30.98878 59.8887)</td>\n",
       "    </tr>\n",
       "    <tr>\n",
       "      <th>7353964075</th>\n",
       "      <td>hotel</td>\n",
       "      <td>POINT (30.98659 59.87632)</td>\n",
       "    </tr>\n",
       "    <tr>\n",
       "      <th>7812529695</th>\n",
       "      <td>camp_site</td>\n",
       "      <td>POINT (31.1293 59.84639)</td>\n",
       "    </tr>\n",
       "    <tr>\n",
       "      <th>7812529707</th>\n",
       "      <td>camp_site</td>\n",
       "      <td>POINT (31.20158 59.80727)</td>\n",
       "    </tr>\n",
       "    <tr>\n",
       "      <th>11268054600</th>\n",
       "      <td>motel</td>\n",
       "      <td>POINT (31.06263 59.90699)</td>\n",
       "    </tr>\n",
       "    <tr>\n",
       "      <th>11581674773</th>\n",
       "      <td>hotel</td>\n",
       "      <td>POINT (30.98981 59.87333)</td>\n",
       "    </tr>\n",
       "    <tr>\n",
       "      <th rowspan=\"3\" valign=\"top\">way</th>\n",
       "      <th>38183949</th>\n",
       "      <td>hotel</td>\n",
       "      <td>POLYGON ((31.0327 59.9467, 31.03251 59.94672, ...</td>\n",
       "    </tr>\n",
       "    <tr>\n",
       "      <th>116073249</th>\n",
       "      <td>hotel</td>\n",
       "      <td>POLYGON ((31.03446 59.9465, 31.03459 59.94648,...</td>\n",
       "    </tr>\n",
       "    <tr>\n",
       "      <th>650038216</th>\n",
       "      <td>guest_house</td>\n",
       "      <td>POLYGON ((31.00121 59.92953, 31.00129 59.92961...</td>\n",
       "    </tr>\n",
       "  </tbody>\n",
       "</table>\n",
       "</div>"
      ]
     },
     "execution_count": 207,
     "metadata": {},
     "output_type": "execute_result"
    }
   ],
   "execution_count": 207
  },
  {
   "metadata": {},
   "cell_type": "code",
   "outputs": [],
   "execution_count": null,
   "source": [
    "G_public_t = get_all_public_transport_graph(polygon=bounds, clip_by_bounds=True,\n",
    "                                            keep_geometry=False)"
   ],
   "id": "9560d21ea2382ff0"
  }
 ],
 "metadata": {
  "kernelspec": {
   "display_name": "Python 3",
   "language": "python",
   "name": "python3"
  },
  "language_info": {
   "codemirror_mode": {
    "name": "ipython",
    "version": 2
   },
   "file_extension": ".py",
   "mimetype": "text/x-python",
   "name": "python",
   "nbconvert_exporter": "python",
   "pygments_lexer": "ipython2",
   "version": "2.7.6"
  }
 },
 "nbformat": 4,
 "nbformat_minor": 5
}
