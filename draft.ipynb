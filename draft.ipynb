{
 "cells": [
  {
   "cell_type": "code",
   "execution_count": 34,
   "id": "initial_id",
   "metadata": {
    "ExecuteTime": {
     "end_time": "2024-10-18T21:54:30.567625Z",
     "start_time": "2024-10-18T21:54:30.564910Z"
    },
    "collapsed": true
   },
   "outputs": [],
   "source": [
    "import pandas as pd\n",
    "import geopandas as gpd\n",
    "import osmnx as ox\n",
    "from shapely.geometry import Point\n",
    "import numpy as np\n",
    "\n",
    "from iduedu import get_intermodal_graph, get_adj_matrix_gdf_to_gdf\n",
    "import networkx as nx"
   ]
  },
  {
   "cell_type": "code",
   "execution_count": 6,
   "id": "c2a195660726a733",
   "metadata": {
    "ExecuteTime": {
     "end_time": "2024-10-18T21:46:02.960746Z",
     "start_time": "2024-10-18T21:46:02.850365Z"
    }
   },
   "outputs": [],
   "source": [
    "context_ter = gpd.read_file('context_ter.geojson')\n",
    "natural = gpd.read_file('shl_natural_estimated.geojson')\n",
    "accomodation = gpd.read_file('accommodation.geojson')\n",
    "attractions = gpd.read_file('attractions.geojson')"
   ]
  },
  {
   "cell_type": "code",
   "execution_count": 39,
   "id": "5dc6be8e",
   "metadata": {},
   "outputs": [
    {
     "name": "stderr",
     "output_type": "stream",
     "text": [
      "C:\\Users\\thebe\\AppData\\Local\\Temp\\ipykernel_27140\\2226234898.py:1: FutureWarning: Currently, index_parts defaults to True, but in the future, it will default to False to be consistent with Pandas. Use `index_parts=True` to keep the current behavior and True/False to silence the warning.\n",
      "  natural = natural.explode()\n"
     ]
    }
   ],
   "source": [
    "natural = natural.explode()"
   ]
  },
  {
   "cell_type": "code",
   "execution_count": 40,
   "id": "51dc2b16",
   "metadata": {},
   "outputs": [],
   "source": [
    "natural.reset_index(drop=True, inplace=True)"
   ]
  },
  {
   "cell_type": "code",
   "execution_count": 41,
   "id": "9565d5c3",
   "metadata": {},
   "outputs": [],
   "source": [
    "attractions_gdf = pd.concat([natural, attractions])"
   ]
  },
  {
   "cell_type": "code",
   "execution_count": 7,
   "id": "9560d21ea2382ff0",
   "metadata": {
    "ExecuteTime": {
     "end_time": "2024-10-18T21:46:19.513409Z",
     "start_time": "2024-10-18T21:46:14.117157Z"
    }
   },
   "outputs": [
    {
     "name": "stderr",
     "output_type": "stream",
     "text": [
      "\u001b[32m2024-10-20 20:46:06.116\u001b[0m | \u001b[1mINFO    \u001b[0m | \u001b[36miduedu.modules.drive_walk_builder\u001b[0m:\u001b[36mget_walk_graph\u001b[0m:\u001b[36m214\u001b[0m - \u001b[1mDownloading walk graph from OSM, it may take a while for large territory ...\u001b[0m\n",
      "Downloading pt routes: 100%|██████████| 4/4 [00:04<00:00,  1.09s/it]\n",
      "Parsing pt routes:   0%|          | 0/60 [00:00<?, ?it/s]c:\\Projects\\IDU\\PriOC\\.venv\\Lib\\site-packages\\iduedu\\modules\\routes_parser.py:264: UserWarning: В одном из маршрутов нет пути, пока не работаю с этим\n",
      "  warnings.warn(\"В одном из маршрутов нет пути, пока не работаю с этим\", UserWarning)\n",
      "c:\\Projects\\IDU\\PriOC\\.venv\\Lib\\site-packages\\shapely\\linear.py:88: RuntimeWarning: invalid value encountered in line_locate_point\n",
      "  return lib.line_locate_point(line, other)\n",
      "Calculating the weights of the walk graph: 100%|██████████| 26156/26156 [00:00<00:00, 27382.39it/s]\n",
      "Parsing pt routes: 100%|██████████| 60/60 [00:04<00:00, 12.60it/s]\n",
      "\u001b[32m2024-10-20 20:46:15.993\u001b[0m | \u001b[1mINFO    \u001b[0m | \u001b[36miduedu.modules.pt_walk_joiner\u001b[0m:\u001b[36mjoin_pt_walk_graph\u001b[0m:\u001b[36m50\u001b[0m - \u001b[1mComposing intermodal graph...\u001b[0m\n"
     ]
    }
   ],
   "source": [
    "G_intermodal = get_intermodal_graph(polygon=context_ter.unary_union, clip_by_bounds=True)"
   ]
  },
  {
   "cell_type": "code",
   "execution_count": 33,
   "id": "ef7ec146",
   "metadata": {},
   "outputs": [],
   "source": [
    "attractions_gdf.to_crs(G_intermodal.graph['crs'], inplace=True)"
   ]
  },
  {
   "cell_type": "code",
   "execution_count": 10,
   "id": "aedc2be0f273be5e",
   "metadata": {
    "ExecuteTime": {
     "end_time": "2024-10-18T22:00:28.407478Z",
     "start_time": "2024-10-18T22:00:28.396652Z"
    }
   },
   "outputs": [],
   "source": [
    "nodes_list = []\n",
    "for data in list(G_intermodal.nodes.data()):\n",
    "    current_dict = {\n",
    "        'id': data[0]\n",
    "    }\n",
    "    geometry = Point([data[1]['x'], data[1]['y']])\n",
    "    current_dict['geometry'] = geometry\n",
    "    current_dict.update(data[1])\n",
    "    current_dict.pop('x')\n",
    "    current_dict.pop('y')\n",
    "    nodes_list.append(current_dict)"
   ]
  },
  {
   "cell_type": "code",
   "execution_count": 11,
   "id": "5c8768b39cf697b0",
   "metadata": {
    "ExecuteTime": {
     "end_time": "2024-10-18T22:00:37.872155Z",
     "start_time": "2024-10-18T22:00:37.868454Z"
    }
   },
   "outputs": [],
   "source": [
    "nodes_df = pd.DataFrame(nodes_list)"
   ]
  },
  {
   "cell_type": "code",
   "execution_count": 12,
   "id": "b5ec9fe6c1c13364",
   "metadata": {
    "ExecuteTime": {
     "end_time": "2024-10-18T22:01:18.855546Z",
     "start_time": "2024-10-18T22:01:18.850289Z"
    }
   },
   "outputs": [],
   "source": [
    "nodes_gdf = gpd.GeoDataFrame(nodes_df, geometry='geometry', crs=32636)"
   ]
  },
  {
   "cell_type": "code",
   "execution_count": 14,
   "id": "eea20fd6dbd1ca6",
   "metadata": {
    "ExecuteTime": {
     "end_time": "2024-10-18T22:11:32.663300Z",
     "start_time": "2024-10-18T22:11:32.655329Z"
    }
   },
   "outputs": [],
   "source": [
    "edges_list = []\n",
    "for data in list(G_intermodal.edges.data()):\n",
    "    current_dict = {\n",
    "        'id': (data[0], data[1])\n",
    "    }\n",
    "    current_dict.update(data[2])\n",
    "    edges_list.append(current_dict)\n",
    "    \n",
    "graph_gdf = gpd.GeoDataFrame(\n",
    "    data=edges_list, geometry='geometry', crs=32636\n",
    ")"
   ]
  },
  {
   "cell_type": "code",
   "execution_count": 16,
   "id": "3ea28737da53242d",
   "metadata": {
    "ExecuteTime": {
     "end_time": "2024-10-18T22:02:21.963893Z",
     "start_time": "2024-10-18T22:02:21.958860Z"
    }
   },
   "outputs": [],
   "source": [
    "full_gdf = pd.concat([nodes_gdf, graph_gdf])"
   ]
  },
  {
   "cell_type": "code",
   "execution_count": 19,
   "id": "c344b7db",
   "metadata": {},
   "outputs": [
    {
     "data": {
      "text/plain": [
       "{'crs': 32636, 'type': 'intermodal', 'walk_speed': 83.33333333333333}"
      ]
     },
     "execution_count": 19,
     "metadata": {},
     "output_type": "execute_result"
    }
   ],
   "source": [
    "G_intermodal.graph"
   ]
  },
  {
   "cell_type": "code",
   "execution_count": 47,
   "id": "b71882d2",
   "metadata": {},
   "outputs": [],
   "source": [
    "accomodation.to_crs(G_intermodal.graph['crs'], inplace=True)\n",
    "attractions_gdf.to_crs(G_intermodal.graph['crs'], inplace=True)\n",
    "accomodation['index'] = accomodation.index.copy()\n",
    "attractions_gdf['index'] = attractions_gdf.index.copy()"
   ]
  },
  {
   "cell_type": "code",
   "execution_count": 66,
   "id": "4bf7fb90907080a4",
   "metadata": {},
   "outputs": [],
   "source": [
    "adjency_matrix = get_adj_matrix_gdf_to_gdf(attractions_gdf, accomodation, G_intermodal, weight='time_min', dtype=np.float16)\n",
    "for column in list(adjency_matrix.columns):\n",
    "    adjency_matrix[column] = adjency_matrix[column].apply(lambda x: round(x, 2))"
   ]
  },
  {
   "cell_type": "code",
   "execution_count": 76,
   "id": "931fb276",
   "metadata": {},
   "outputs": [],
   "source": [
    "valuable = attractions_gdf[attractions_gdf['value'] > 5]['index'].to_list()"
   ]
  },
  {
   "cell_type": "code",
   "execution_count": 82,
   "id": "d90fabb6",
   "metadata": {},
   "outputs": [],
   "source": [
    "valuable_matrix = adjency_matrix[adjency_matrix.index.isin(valuable)]"
   ]
  },
  {
   "cell_type": "code",
   "execution_count": 85,
   "id": "53b7f2a6",
   "metadata": {},
   "outputs": [
    {
     "name": "stdout",
     "output_type": "stream",
     "text": [
      "Can't fit in one day\n",
      "Can't fit in one day\n",
      "Can't fit in one day\n",
      "Can't fit in one day\n",
      "Can't fit in one day\n",
      "Can't fit in one day\n",
      "Can't fit in one day\n",
      "Can't fit in one day\n",
      "Can't fit in one day\n",
      "Can't fit in one day\n",
      "Can't fit in one day\n",
      "Can't fit in one day\n"
     ]
    }
   ],
   "source": [
    "for hotel in list(valuable_matrix.columns):\n",
    "    if valuable_matrix[hotel].sum() + 20 * (len(valuable_matrix)) > 14 * 60:\n",
    "        print(\"Can't fit in one day\")"
   ]
  },
  {
   "cell_type": "code",
   "execution_count": 94,
   "id": "a8dfbb6a",
   "metadata": {},
   "outputs": [],
   "source": [
    "from random import randint\n",
    "accomodation['capacity'] = [randint(10, 40) for i in range(len(accomodation))]"
   ]
  },
  {
   "cell_type": "code",
   "execution_count": 95,
   "id": "d3e4f928",
   "metadata": {},
   "outputs": [
    {
     "data": {
      "text/plain": [
       "0     21\n",
       "1     24\n",
       "2     24\n",
       "3     18\n",
       "4     18\n",
       "5     31\n",
       "6     39\n",
       "7     36\n",
       "8     17\n",
       "9     12\n",
       "10    37\n",
       "11    19\n",
       "Name: capacity, dtype: int64"
      ]
     },
     "execution_count": 95,
     "metadata": {},
     "output_type": "execute_result"
    }
   ],
   "source": [
    "accomodation['capacity']"
   ]
  },
  {
   "cell_type": "code",
   "execution_count": 106,
   "id": "4ecf08eb",
   "metadata": {},
   "outputs": [],
   "source": [
    "attractions_gdf['generated_demand'] = attractions_gdf['value'].apply(lambda x: x * 2 if x > 5 else x)"
   ]
  },
  {
   "cell_type": "code",
   "execution_count": 107,
   "id": "6cefca3b",
   "metadata": {},
   "outputs": [
    {
     "data": {
      "text/html": [
       "<div>\n",
       "<style scoped>\n",
       "    .dataframe tbody tr th:only-of-type {\n",
       "        vertical-align: middle;\n",
       "    }\n",
       "\n",
       "    .dataframe tbody tr th {\n",
       "        vertical-align: top;\n",
       "    }\n",
       "\n",
       "    .dataframe thead th {\n",
       "        text-align: right;\n",
       "    }\n",
       "</style>\n",
       "<table border=\"1\" class=\"dataframe\">\n",
       "  <thead>\n",
       "    <tr style=\"text-align: right;\">\n",
       "      <th></th>\n",
       "      <th>natural</th>\n",
       "      <th>geom_type</th>\n",
       "      <th>value</th>\n",
       "      <th>geometry</th>\n",
       "      <th>name</th>\n",
       "      <th>tourism</th>\n",
       "      <th>index</th>\n",
       "      <th>generated_demand</th>\n",
       "    </tr>\n",
       "  </thead>\n",
       "  <tbody>\n",
       "    <tr>\n",
       "      <th>0</th>\n",
       "      <td>grassland</td>\n",
       "      <td>None</td>\n",
       "      <td>1</td>\n",
       "      <td>POLYGON ((384357.584 6632455.180, 384375.780 6...</td>\n",
       "      <td>NaN</td>\n",
       "      <td>NaN</td>\n",
       "      <td>0</td>\n",
       "      <td>1</td>\n",
       "    </tr>\n",
       "    <tr>\n",
       "      <th>1</th>\n",
       "      <td>grassland</td>\n",
       "      <td>None</td>\n",
       "      <td>1</td>\n",
       "      <td>POLYGON ((384714.343 6632536.854, 384711.651 6...</td>\n",
       "      <td>NaN</td>\n",
       "      <td>NaN</td>\n",
       "      <td>1</td>\n",
       "      <td>1</td>\n",
       "    </tr>\n",
       "    <tr>\n",
       "      <th>2</th>\n",
       "      <td>grassland</td>\n",
       "      <td>None</td>\n",
       "      <td>1</td>\n",
       "      <td>POLYGON ((383992.860 6632665.664, 383996.078 6...</td>\n",
       "      <td>NaN</td>\n",
       "      <td>NaN</td>\n",
       "      <td>2</td>\n",
       "      <td>1</td>\n",
       "    </tr>\n",
       "    <tr>\n",
       "      <th>3</th>\n",
       "      <td>grassland</td>\n",
       "      <td>None</td>\n",
       "      <td>1</td>\n",
       "      <td>POLYGON ((384536.721 6633013.623, 384567.944 6...</td>\n",
       "      <td>NaN</td>\n",
       "      <td>NaN</td>\n",
       "      <td>3</td>\n",
       "      <td>1</td>\n",
       "    </tr>\n",
       "    <tr>\n",
       "      <th>4</th>\n",
       "      <td>grassland</td>\n",
       "      <td>None</td>\n",
       "      <td>1</td>\n",
       "      <td>POLYGON ((385204.245 6633861.213, 385121.219 6...</td>\n",
       "      <td>NaN</td>\n",
       "      <td>NaN</td>\n",
       "      <td>4</td>\n",
       "      <td>1</td>\n",
       "    </tr>\n",
       "    <tr>\n",
       "      <th>...</th>\n",
       "      <td>...</td>\n",
       "      <td>...</td>\n",
       "      <td>...</td>\n",
       "      <td>...</td>\n",
       "      <td>...</td>\n",
       "      <td>...</td>\n",
       "      <td>...</td>\n",
       "      <td>...</td>\n",
       "    </tr>\n",
       "    <tr>\n",
       "      <th>74</th>\n",
       "      <td>NaN</td>\n",
       "      <td>NaN</td>\n",
       "      <td>4</td>\n",
       "      <td>POLYGON ((390334.585 6647892.701, 390425.522 6...</td>\n",
       "      <td>None</td>\n",
       "      <td>attraction</td>\n",
       "      <td>74</td>\n",
       "      <td>4</td>\n",
       "    </tr>\n",
       "    <tr>\n",
       "      <th>75</th>\n",
       "      <td>NaN</td>\n",
       "      <td>NaN</td>\n",
       "      <td>5</td>\n",
       "      <td>POLYGON ((390469.696 6647817.343, 390468.489 6...</td>\n",
       "      <td>None</td>\n",
       "      <td>attraction</td>\n",
       "      <td>75</td>\n",
       "      <td>5</td>\n",
       "    </tr>\n",
       "    <tr>\n",
       "      <th>76</th>\n",
       "      <td>NaN</td>\n",
       "      <td>NaN</td>\n",
       "      <td>8</td>\n",
       "      <td>POLYGON ((390425.522 6647965.888, 390448.595 6...</td>\n",
       "      <td>None</td>\n",
       "      <td>attraction</td>\n",
       "      <td>76</td>\n",
       "      <td>16</td>\n",
       "    </tr>\n",
       "    <tr>\n",
       "      <th>77</th>\n",
       "      <td>NaN</td>\n",
       "      <td>NaN</td>\n",
       "      <td>8</td>\n",
       "      <td>POLYGON ((389969.691 6646934.272, 389965.729 6...</td>\n",
       "      <td>Петровский шлюз</td>\n",
       "      <td>attraction</td>\n",
       "      <td>77</td>\n",
       "      <td>16</td>\n",
       "    </tr>\n",
       "    <tr>\n",
       "      <th>78</th>\n",
       "      <td>NaN</td>\n",
       "      <td>NaN</td>\n",
       "      <td>2</td>\n",
       "      <td>POLYGON ((390456.929 6647910.578, 390462.944 6...</td>\n",
       "      <td>Собор Рождества Иоанна Предтечи</td>\n",
       "      <td>museum</td>\n",
       "      <td>78</td>\n",
       "      <td>2</td>\n",
       "    </tr>\n",
       "  </tbody>\n",
       "</table>\n",
       "<p>1381 rows × 8 columns</p>\n",
       "</div>"
      ],
      "text/plain": [
       "      natural geom_type  value  \\\n",
       "0   grassland      None      1   \n",
       "1   grassland      None      1   \n",
       "2   grassland      None      1   \n",
       "3   grassland      None      1   \n",
       "4   grassland      None      1   \n",
       "..        ...       ...    ...   \n",
       "74        NaN       NaN      4   \n",
       "75        NaN       NaN      5   \n",
       "76        NaN       NaN      8   \n",
       "77        NaN       NaN      8   \n",
       "78        NaN       NaN      2   \n",
       "\n",
       "                                             geometry  \\\n",
       "0   POLYGON ((384357.584 6632455.180, 384375.780 6...   \n",
       "1   POLYGON ((384714.343 6632536.854, 384711.651 6...   \n",
       "2   POLYGON ((383992.860 6632665.664, 383996.078 6...   \n",
       "3   POLYGON ((384536.721 6633013.623, 384567.944 6...   \n",
       "4   POLYGON ((385204.245 6633861.213, 385121.219 6...   \n",
       "..                                                ...   \n",
       "74  POLYGON ((390334.585 6647892.701, 390425.522 6...   \n",
       "75  POLYGON ((390469.696 6647817.343, 390468.489 6...   \n",
       "76  POLYGON ((390425.522 6647965.888, 390448.595 6...   \n",
       "77  POLYGON ((389969.691 6646934.272, 389965.729 6...   \n",
       "78  POLYGON ((390456.929 6647910.578, 390462.944 6...   \n",
       "\n",
       "                               name     tourism  index  generated_demand  \n",
       "0                               NaN         NaN      0                 1  \n",
       "1                               NaN         NaN      1                 1  \n",
       "2                               NaN         NaN      2                 1  \n",
       "3                               NaN         NaN      3                 1  \n",
       "4                               NaN         NaN      4                 1  \n",
       "..                              ...         ...    ...               ...  \n",
       "74                             None  attraction     74                 4  \n",
       "75                             None  attraction     75                 5  \n",
       "76                             None  attraction     76                16  \n",
       "77                  Петровский шлюз  attraction     77                16  \n",
       "78  Собор Рождества Иоанна Предтечи      museum     78                 2  \n",
       "\n",
       "[1381 rows x 8 columns]"
      ]
     },
     "execution_count": 107,
     "metadata": {},
     "output_type": "execute_result"
    }
   ],
   "source": [
    "attractions_gdf"
   ]
  },
  {
   "cell_type": "code",
   "execution_count": 110,
   "id": "c63c064d",
   "metadata": {},
   "outputs": [],
   "source": [
    "valuable_demand = attractions_gdf[attractions_gdf['value'] > 5]['generated_demand'].sum()"
   ]
  },
  {
   "cell_type": "code",
   "execution_count": 111,
   "id": "d2fc4e7d",
   "metadata": {},
   "outputs": [
    {
     "data": {
      "text/plain": [
       "618"
      ]
     },
     "execution_count": 111,
     "metadata": {},
     "output_type": "execute_result"
    }
   ],
   "source": [
    "valuable_demand"
   ]
  },
  {
   "cell_type": "code",
   "execution_count": 103,
   "id": "15608126",
   "metadata": {},
   "outputs": [
    {
     "data": {
      "text/plain": [
       "1545"
      ]
     },
     "execution_count": 103,
     "metadata": {},
     "output_type": "execute_result"
    }
   ],
   "source": [
    "valuable_demand"
   ]
  },
  {
   "cell_type": "code",
   "execution_count": null,
   "id": "7708dd52",
   "metadata": {},
   "outputs": [],
   "source": []
  }
 ],
 "metadata": {
  "kernelspec": {
   "display_name": ".venv",
   "language": "python",
   "name": "python3"
  },
  "language_info": {
   "codemirror_mode": {
    "name": "ipython",
    "version": 3
   },
   "file_extension": ".py",
   "mimetype": "text/x-python",
   "name": "python",
   "nbconvert_exporter": "python",
   "pygments_lexer": "ipython3",
   "version": "3.11.8"
  }
 },
 "nbformat": 4,
 "nbformat_minor": 5
}
